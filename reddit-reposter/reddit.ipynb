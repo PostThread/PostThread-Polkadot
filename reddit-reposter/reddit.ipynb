{
 "cells": [
  {
   "cell_type": "code",
   "execution_count": 1,
   "id": "c02729b4",
   "metadata": {},
   "outputs": [],
   "source": [
    "%load_ext autoreload\n",
    "%autoreload 2"
   ]
  },
  {
   "cell_type": "code",
   "execution_count": 2,
   "id": "4298de95",
   "metadata": {},
   "outputs": [
    {
     "name": "stderr",
     "output_type": "stream",
     "text": [
      "/home/chia/miniconda3/lib/python3.8/site-packages/ipfshttpclient/client/__init__.py:73: VersionMismatch: Unsupported daemon version '0.13.0' (not in range: 0.5.0 ≤ … < 0.9.0)\n",
      "  warnings.warn(exceptions.VersionMismatch(version, minimum, maximum))\n"
     ]
    }
   ],
   "source": [
    "import json\n",
    "import pandas as pd\n",
    "import subprocess\n",
    "import time\n",
    "from random import sample\n",
    "import ipfshttpclient\n",
    "from os import listdir\n",
    "from os.path import isfile, join\n",
    "import re\n",
    "import praw\n",
    "\n",
    "import substrateinterface\n",
    "from substrateinterface import SubstrateInterface, Keypair\n",
    "from substrateinterface.exceptions import SubstrateRequestException\n",
    "\n",
    "from substrate_helpers import *\n",
    "from database_queries import update_db\n",
    "import sqlite3"
   ]
  },
  {
   "cell_type": "code",
   "execution_count": 3,
   "id": "54cc1d2a",
   "metadata": {},
   "outputs": [],
   "source": [
    "accounts = json.load(open(\"accounts.json\", \"r\"))\n",
    "schemas = json.load(open(\"schemas.json\", \"r\"))"
   ]
  },
  {
   "cell_type": "code",
   "execution_count": 4,
   "id": "780ca96b",
   "metadata": {
    "scrolled": true
   },
   "outputs": [],
   "source": [
    "reddit_creds = json.load(open(\".reddit_creds.json\", \"r\"))\n",
    "reddit = praw.Reddit(\n",
    "    client_id=reddit_creds[\"client_id\"],\n",
    "    client_secret=reddit_creds[\"client_secret\"],\n",
    "    password=reddit_creds[\"password\"],\n",
    "    user_agent=reddit_creds[\"user_agent\"],\n",
    "    username=reddit_creds[\"username\"],\n",
    ")"
   ]
  },
  {
   "cell_type": "code",
   "execution_count": 5,
   "id": "c80d80b8",
   "metadata": {
    "scrolled": true
   },
   "outputs": [],
   "source": [
    "substrate = SubstrateInterface(\n",
    "    url=\"ws://127.0.0.1:9944\",\n",
    "    ss58_format=42,\n",
    "    type_registry_preset='kusama'\n",
    ")\n",
    "bob = Keypair.create_from_uri('//Bob')\n",
    "bob_msa_id = get_msa_id(bob)"
   ]
  },
  {
   "cell_type": "code",
   "execution_count": 6,
   "id": "127601be",
   "metadata": {},
   "outputs": [],
   "source": [
    "con = sqlite3.connect('postthreadV1_write.db')\n",
    "cur = con.cursor()"
   ]
  },
  {
   "cell_type": "code",
   "execution_count": 7,
   "id": "32f8566f",
   "metadata": {},
   "outputs": [],
   "source": [
    "r_all = reddit.subreddit('all')"
   ]
  },
  {
   "cell_type": "code",
   "execution_count": 8,
   "id": "2aaa501c",
   "metadata": {},
   "outputs": [],
   "source": [
    "client = ipfshttpclient.connect()"
   ]
  },
  {
   "cell_type": "code",
   "execution_count": 9,
   "id": "8e1eb535",
   "metadata": {},
   "outputs": [],
   "source": [
    "path = \"/tmp/\""
   ]
  },
  {
   "cell_type": "code",
   "execution_count": 10,
   "id": "c6cf6970",
   "metadata": {},
   "outputs": [],
   "source": [
    "def mint_reddit_users_msa_ids(post, delegate, wait_for_inclusion=False, wait_for_finalization=False):\n",
    "    ## USER ##\n",
    "    try:\n",
    "        username = str(post.author.name)\n",
    "        if username[0:2] == '0x':\n",
    "            username = username[2:]\n",
    "        profile_pic = post.author.icon_img\n",
    "    except:\n",
    "        username = \"removed\"\n",
    "        profile_pic = \"removed\"\n",
    "\n",
    "    password = 'password'\n",
    "    user_wallet = Keypair.create_from_uri('//' + username + password)\n",
    "    msa_id = create_msa_with_delegator(delegate, user_wallet, \n",
    "                                       wait_for_inclusion=wait_for_inclusion, wait_for_finalization=wait_for_finalization)\n",
    "    \n",
    "    return {\"username\": username, \"password\": password, \"profile_pic\": profile_pic, \"user_wallet\": user_wallet, \"msa_id\": msa_id}"
   ]
  },
  {
   "cell_type": "code",
   "execution_count": 11,
   "id": "a9682ef6",
   "metadata": {
    "scrolled": true
   },
   "outputs": [],
   "source": [
    "def mint_reddit_users_msa_ids_for_posts(posts, delegate):\n",
    "    users = {}\n",
    "    posts_and_comments = posts\n",
    "    for i, (post_name, post) in enumerate(posts.items()):\n",
    "        if i != len(posts):\n",
    "            users[post_name] = {post_name: mint_reddit_users_msa_ids(post, delegate)}\n",
    "        \n",
    "        top_comments = []\n",
    "        for comment in post.comments.list()[:10]:\n",
    "            if comment.parent_id == post.name:\n",
    "                top_comments.append(comment.name)\n",
    "                users[post_name][comment.name] = mint_reddit_users_msa_ids(comment, delegate)\n",
    "#         for comment in post.comments.list():\n",
    "#             if type(comment) != praw.models.reddit.more.MoreComments and comment.parent_id in top_comments:\n",
    "#                 users[post_name][comment.name] = mint_reddit_users_msa_ids(comment, delegate)\n",
    "    \n",
    "    # last one wait for finalization\n",
    "    users[post_name] = {post_name: mint_reddit_users_msa_ids(post, delegate, True, True)}\n",
    "        \n",
    "    return users"
   ]
  },
  {
   "cell_type": "code",
   "execution_count": 12,
   "id": "fa35169b",
   "metadata": {},
   "outputs": [],
   "source": [
    "def mint_comment(post_data_hash, parent_hash, user, comment):      \n",
    "    user_wallet = Keypair.create_from_uri('//' + user['username'] + user['password'])\n",
    "    user_msa_id = get_msa_id(user_wallet)\n",
    "\n",
    "    comment_data = {\n",
    "        \"post_hash\": post_data_hash,\n",
    "        \"parent_hash\": parent_hash,\n",
    "        \"depth\": comment.depth,\n",
    "        \"body\": comment.body,\n",
    "    }\n",
    "\n",
    "    comment_data_hash, receipt_comment = mint_data(comment_data, user_msa_id, schemas['comment'], path+'comments/', wait_for_inclusion=False, wait_for_finalization=False)\n",
    "\n",
    "    ## comment votes ##\n",
    "    receipt_ups = mint_votes(user_msa_id, comment.ups, comment_data_hash, post_data_hash, 'comment')\n",
    "    receipt_downs = mint_votes(user_msa_id, comment.downs, comment_data_hash, post_data_hash, 'comment')\n",
    "    \n",
    "    return comment_data_hash, user_msa_id"
   ]
  },
  {
   "cell_type": "code",
   "execution_count": 13,
   "id": "00b67df1",
   "metadata": {},
   "outputs": [],
   "source": [
    "def mint_reddit_posts_and_users(posts, users, user_msa_ids, delegate):\n",
    "    for i, (post_name, post) in enumerate(posts.items()):\n",
    "        try:\n",
    "            user = users[post.name][post.name]\n",
    "        except:\n",
    "            print('Could not find user for post:', post.author)\n",
    "            continue\n",
    "        ## POST ##\n",
    "        post_data = {\n",
    "            \"category\": post.subreddit.display_name,\n",
    "            \"title\": post.title,\n",
    "            \"body\": post.selftext,\n",
    "            \"url\": post.url,\n",
    "            \"is_nsfw\": post.over_18\n",
    "        }\n",
    "        user_wallet = Keypair.create_from_uri('//' + user['username'] + user['password'])\n",
    "        user_msa_id = user['msa_id']\n",
    "        if user_msa_id is None:\n",
    "            print('no user_msa_id')\n",
    "            continue\n",
    "        \n",
    "        receipt_user = mint_user(user_msa_id, user['username'], user['password'], user['profile_pic'], user_wallet)\n",
    "\n",
    "        post_data_hash, receipt_post = mint_data(post_data, user_msa_id, schemas['post'], path+'posts/', \n",
    "                                                 wait_for_inclusion=False, wait_for_finalization=False)\n",
    "\n",
    "        ## post votes ##\n",
    "        receipt_ups = mint_votes(user_msa_id, post.ups, post_data_hash, post_data_hash, 'post', \n",
    "                                                 wait_for_inclusion=False, wait_for_finalization=False)\n",
    "        receipt_downs = mint_votes(user_msa_id, post.downs, post_data_hash, post_data_hash, 'post', \n",
    "                                                 wait_for_inclusion=False, wait_for_finalization=False)\n",
    "        \n",
    "        comment_list = post.comments.list()\n",
    "        top_comments = {}\n",
    "        for comment in comment_list[:10]:\n",
    "            if comment.parent_id == post.name:  \n",
    "                try:\n",
    "                    user = users[post_name][comment.name] \n",
    "                except:\n",
    "                    print('Could not find user for comment:', comment.author)\n",
    "                    continue\n",
    "                comment_data_hash, comment_user_msa_id = mint_comment(post_data_hash, post_data_hash, user, comment)\n",
    "                top_comments[comment.name] = {\"hash\": comment_data_hash, \"comment_count\": 0}\n",
    "                \n",
    "        ## for comments on comments\n",
    "#         if len(comment_list) > 10:\n",
    "#             for comment in comment_list[10:]:\n",
    "#                 if type(comment) != praw.models.reddit.more.MoreComments and comment.parent_id in top_comments and top_comments[comment.parent_id]['comment_count'] < 10:\n",
    "#                     try:    \n",
    "#                         user = data[data[] == post.name[comment.name]    \n",
    "#                     except:\n",
    "#                         continue\n",
    "                        \n",
    "#                     comment_data_hash = mint_comment(post_data_hash, top_comments[comment.parent_id][\"hash\"], user, comment)\n",
    "#                     top_comments[comment.name] = {\"hash\": comment_data_hash, \"comment_count\": 0}\n",
    "#                     top_comments[comment.parent_id][\"comment_count\"] += 1\n",
    "        \n",
    "        ## FOLLOWS ##\n",
    "        for other_user_msa_id in sample(user_msa_ids, min(10, len(user_msa_ids))):\n",
    "            if user_msa_id != other_user_msa_id:\n",
    "                follow_user(user_msa_id, other_user_msa_id)\n",
    "        \n",
    "    return True"
   ]
  },
  {
   "cell_type": "markdown",
   "id": "665c2f27",
   "metadata": {},
   "source": [
    "# DB writer"
   ]
  },
  {
   "cell_type": "code",
   "execution_count": 14,
   "id": "a5895e08",
   "metadata": {},
   "outputs": [],
   "source": [
    "post_query = \"\"\"\n",
    "SELECT category, title, post.msa_id_from_query, username\n",
    "FROM post \n",
    "JOIN user ON user.msa_id_from_query = post.msa_id_from_query\n",
    "\"\"\"\n",
    "user_query = \"\"\"SELECT msa_id_from_query FROM user\"\"\""
   ]
  },
  {
   "cell_type": "code",
   "execution_count": null,
   "id": "289ad355",
   "metadata": {
    "scrolled": true
   },
   "outputs": [
    {
     "name": "stdout",
     "output_type": "stream",
     "text": [
      "# new posts: 100\n",
      "msa done posting\n",
      "Could not find user for comment: NeoDragonKnight\n",
      "Could not find user for comment: stretching_holes\n",
      "Could not find user for comment: r3aganisthedevil\n",
      "Could not find user for comment: autotldr\n",
      "Could not find user for comment: Eat_A_Bag_Of_Dicks69\n",
      "Could not find user for comment: Hav3_Y0u_M3t_T3d\n",
      "Could not find user for comment: -SPOF\n",
      "Could not find user for comment: itsnotuptoyouisit\n",
      "Could not find user for comment: dunker_-\n",
      "Could not find user for comment: dirtycuttings\n",
      "Done minting\n",
      "# new posts: 100\n",
      "msa done posting\n",
      "Could not find user for comment: Trumpdidwin\n",
      "Done minting\n",
      "# new posts: 96\n",
      "msa done posting\n",
      "Could not find user for comment: Kifameah\n",
      "Could not find user for comment: Comsicwastaken\n",
      "Could not find user for comment: DonRedditus\n",
      "Could not find user for comment: ManOfManyWives\n",
      "Could not find user for comment: Distinct_Science_347\n",
      "Could not find user for comment: ADHDGamer69\n",
      "Could not find user for comment: Interesting_Wolf_678\n",
      "Could not find user for comment: uppercuthard2\n",
      "Could not find user for comment: ExpressEffort7916\n",
      "Could not find user for comment: LDX20002612\n",
      "Done minting\n",
      "# new posts: 100\n",
      "msa done posting\n",
      "Could not find user for comment: Superstonk_QV\n",
      "Could not find user for comment: ChipmunkCareless2877\n",
      "Could not find user for comment: BionicleUniverse\n",
      "Done minting\n",
      "# new posts: 100\n",
      "msa done posting\n",
      "Could not find user for comment: Superstonk_QV\n",
      "Done minting\n",
      "# new posts: 99\n",
      "msa done posting\n",
      "Could not find user for comment: Superstonk_QV\n",
      "Done minting\n",
      "# new posts: 94\n",
      "msa done posting\n",
      "Could not find user for comment: wasted-degrees\n",
      "Could not find user for comment: Pellektricity\n",
      "Done minting\n",
      "# new posts: 97\n",
      "msa done posting\n",
      "Could not find user for comment: Cappin_Crunch\n",
      "Could not find user for comment: Cold_Breadfruit_9794\n",
      "Could not find user for comment: AlkalineHero006\n",
      "Could not find user for comment: mugiboya\n",
      "Could not find user for comment: edroyque\n",
      "Done minting\n",
      "# new posts: 99\n",
      "msa done posting\n",
      "Could not find user for comment: SuperNarwhal64\n",
      "Done minting\n",
      "# new posts: 98\n",
      "msa done posting\n",
      "Could not find user for comment: Possible_Economist37\n",
      "Could not find user for comment: HopsNews\n",
      "Could not find user for comment: es2870\n",
      "Could not find user for comment: ViolinistSimilar4760\n",
      "Could not find user for comment: generatorland\n",
      "Could not find user for comment: Rosslikefromfriends\n",
      "Could not find user for comment: Ameristeel\n",
      "Could not find user for comment: nofacereagan\n",
      "Could not find user for comment: goodolarchie\n",
      "Could not find user for comment: dds120dds120\n",
      "Done minting\n",
      "# new posts: 100\n",
      "msa done posting\n",
      "Could not find user for comment: trainwreck489\n",
      "Could not find user for comment: Geobead\n",
      "Could not find user for comment: ensandwich\n",
      "Could not find user for comment: mozzy_world\n",
      "Could not find user for comment: EnvironmentalCow206\n",
      "Could not find user for comment: blu3st0ck7ng\n",
      "Could not find user for comment: pregnancy_terrorist\n",
      "Could not find user for comment: yarn_slinger\n",
      "Could not find user for comment: LovitzInTheYear2000\n",
      "Could not find user for comment: passthewasabi\n",
      "Done minting\n",
      "# new posts: 100\n",
      "msa done posting\n",
      "Could not find user for comment: Weak_Tooth_1451\n",
      "Done minting\n",
      "# new posts: 100\n",
      "msa done posting\n",
      "Could not find user for comment: UdderSuckage\n",
      "Could not find user for comment: DemonGroover\n",
      "Done minting\n"
     ]
    }
   ],
   "source": [
    "all_posts = pd.read_sql_query(post_query, con)\n",
    "user_msa_ids = pd.read_sql_query(user_query, con)['msa_id_from_query'].unique().tolist()\n",
    "\n",
    "minted_time = 0\n",
    "last_block = 0\n",
    "while True:\n",
    "    # Mint reddit posts every hour\n",
    "    if (time.time() - minted_time) / 60 > 30:\n",
    "        all_posts = pd.read_sql_query(post_query, con)\n",
    "        user_msa_ids = pd.read_sql_query(user_query, con)['msa_id_from_query'].unique().tolist()\n",
    "        \n",
    "        posts = {p.name: p for p in r_all.top(time_filter='hour') if all_posts[(all_posts['username'] == p.author) & (all_posts['title'] == p.title) & (all_posts['category'] == p.subreddit)].size == 0}\n",
    "        print(\"# new posts:\", len(posts))\n",
    "        # run twice since first time it waits for finalization\n",
    "        all_users = mint_reddit_users_msa_ids_for_posts(posts, bob)\n",
    "        print('msa done posting')\n",
    "        all_users = mint_reddit_users_msa_ids_for_posts(posts, bob)\n",
    "        it_worked = mint_reddit_posts_and_users(posts, all_users, user_msa_ids, bob)\n",
    "        if not it_worked:\n",
    "            print(\"Minting Posts failed\")\n",
    "\n",
    "        minted_time = time.time()\n",
    "        print('Done minting')\n",
    "    \n",
    "    time.sleep(1)"
   ]
  },
  {
   "cell_type": "code",
   "execution_count": null,
   "id": "4195f814",
   "metadata": {},
   "outputs": [],
   "source": []
  },
  {
   "cell_type": "code",
   "execution_count": null,
   "id": "4eb4dc97",
   "metadata": {},
   "outputs": [],
   "source": []
  },
  {
   "cell_type": "code",
   "execution_count": null,
   "id": "05bceff9",
   "metadata": {},
   "outputs": [],
   "source": []
  },
  {
   "cell_type": "markdown",
   "id": "52fcf7b8",
   "metadata": {},
   "source": [
    "# test"
   ]
  },
  {
   "cell_type": "code",
   "execution_count": 19,
   "id": "aabd7b99",
   "metadata": {},
   "outputs": [],
   "source": [
    "posts = {p.name: p for p in r_all.top(time_filter='hour') if all_posts[(all_posts['username'] == p.author) & (all_posts['title'] == p.title) & (all_posts['category'] == p.subreddit)].size == 0}"
   ]
  },
  {
   "cell_type": "code",
   "execution_count": 118,
   "id": "6faf0b18",
   "metadata": {},
   "outputs": [
    {
     "name": "stdout",
     "output_type": "stream",
     "text": [
      "post 14048\n",
      "comment 106827\n",
      "Failed to get data from row  {'post_hash': 'Qmb1kobqprptgdgHQkJcrMGNuXbcJZERKXjbHLLLRXuzsd', 'parent_comment_hash': 'Qmb1kobqprptgdgHQkJcrMGNuXbcJZERKXjbHLLLRXuzsd', 'depth': 0, 'body': 'Nice Post!', 'is_nsfw': False}\n",
      "Failed to get data from row  {'post_hash': 'QmbG2dxLWHKvdgsTqDzLjhD96BXrLQUeJkrLuasmPZKgn9', 'parent_comment_hash': 'QmbG2dxLWHKvdgsTqDzLjhD96BXrLQUeJkrLuasmPZKgn9', 'depth': 0, 'body': 'string', 'is_nsfw': True}\n",
      "Failed to get data from row  {'post_hash': 'QmaPVDDt24iqiSBuPAvPYY86LmyZrfKEw33ceLP81mFXY9', 'parent_comment_hash': 'QmaPVDDt24iqiSBuPAvPYY86LmyZrfKEw33ceLP81mFXY9', 'depth': 0, 'body': 'Nice post', 'is_nsfw': False}\n",
      "Failed to get data from row  {'post_hash': 'QmaPVDDt24iqiSBuPAvPYY86LmyZrfKEw33ceLP81mFXY9', 'parent_comment_hash': 'QmaPVDDt24iqiSBuPAvPYY86LmyZrfKEw33ceLP81mFXY9', 'depth': 0, 'body': 'Nice Post!', 'is_nsfw': False}\n",
      "Failed to get data from row  {'post_hash': 'QmcM1M1tDFPtBY1EfEFXXGms6uuiMPq8nbJsg7smi4GNGX', 'parent_comment_hash': 'QmcM1M1tDFPtBY1EfEFXXGms6uuiMPq8nbJsg7smi4GNGX', 'depth': 0, 'body': 'That looks awesome', 'is_nsfw': False}\n",
      "vote 243806\n",
      "Failed to parse json {\"post_hash\": QmbG2dxLWHKvdgsTqDzLjhD96BXrLQUeJkrLuasmPZKgn9,\"parent_hash\": QmbG2dxLWHKvdgsTqDzLjhD96BXrLQUeJkrLuasmPZKgn9,\"parent_type\": post,\"num_votes\": 1}\n",
      "Failed to parse json {\"post_hash\": QmZPkfXdDPR9TcX5fxTkeV2MRVJX4u2ePvhs25KjnjQxZr,\"parent_hash\": QmZPkfXdDPR9TcX5fxTkeV2MRVJX4u2ePvhs25KjnjQxZr,\"parent_type\": post,\"num_votes\": 1}\n",
      "Failed to parse json {\"post_hash\": QmajLVH6vAdcReDaDU8XvJ1GCYPpfFw5SbpU2anKvJpw5A,\"parent_hash\": QmajLVH6vAdcReDaDU8XvJ1GCYPpfFw5SbpU2anKvJpw5A,\"parent_type\": post,\"num_votes\": 1}\n",
      "Failed to parse json {\"post_hash\": QmajLVH6vAdcReDaDU8XvJ1GCYPpfFw5SbpU2anKvJpw5A,\"parent_hash\": QmajLVH6vAdcReDaDU8XvJ1GCYPpfFw5SbpU2anKvJpw5A,\"parent_type\": post,\"num_votes\": -1}\n",
      "Failed to parse json {\"post_hash\": QmajLVH6vAdcReDaDU8XvJ1GCYPpfFw5SbpU2anKvJpw5A,\"parent_hash\": QmajLVH6vAdcReDaDU8XvJ1GCYPpfFw5SbpU2anKvJpw5A,\"parent_type\": post,\"num_votes\": 1}\n",
      "Failed to parse json {\"post_hash\": Qmf36mBv47aENzYXHv6yUWwEaZ2zr7ZJnttHMgkRdDnaVf,\"parent_hash\": Qmf36mBv47aENzYXHv6yUWwEaZ2zr7ZJnttHMgkRdDnaVf,\"parent_type\": post,\"num_votes\": 1}\n",
      "Failed to parse json {\"post_hash\": QmZKTi9c1yBFTBDALAYscfrjR7LkaAATtu9vkNS8MQGNhF,\"parent_hash\": QmZKTi9c1yBFTBDALAYscfrjR7LkaAATtu9vkNS8MQGNhF,\"parent_type\": post,\"num_votes\": 1}\n",
      "Failed to parse json {\"post_hash\": QmZKTi9c1yBFTBDALAYscfrjR7LkaAATtu9vkNS8MQGNhF,\"parent_hash\": QmZKTi9c1yBFTBDALAYscfrjR7LkaAATtu9vkNS8MQGNhF,\"parent_type\": post,\"num_votes\": 1}\n",
      "user 14068\n",
      "follow 186095\n",
      "link 6\n",
      "payout 9\n"
     ]
    },
    {
     "data": {
      "text/plain": [
       "(23668, True)"
      ]
     },
     "execution_count": 118,
     "metadata": {},
     "output_type": "execute_result"
    }
   ],
   "source": [
    "update_db(backfill=True, schemaToUpdate=None)"
   ]
  },
  {
   "cell_type": "code",
   "execution_count": null,
   "id": "1f79136c",
   "metadata": {
    "scrolled": true
   },
   "outputs": [],
   "source": [
    "pd.read_sql_query(\"\"\"SELECT user.date_minted FROM user, post, comment, vote, follow limit 1\"\"\", con)"
   ]
  },
  {
   "cell_type": "code",
   "execution_count": null,
   "id": "70fa9b62",
   "metadata": {},
   "outputs": [],
   "source": []
  }
 ],
 "metadata": {
  "kernelspec": {
   "display_name": "Python 3 (ipykernel)",
   "language": "python",
   "name": "python3"
  },
  "language_info": {
   "codemirror_mode": {
    "name": "ipython",
    "version": 3
   },
   "file_extension": ".py",
   "mimetype": "text/x-python",
   "name": "python",
   "nbconvert_exporter": "python",
   "pygments_lexer": "ipython3",
   "version": "3.8.5"
  },
  "vscode": {
   "interpreter": {
    "hash": "f90a51316803318f0b952c570a4fe32d53aa73ff3300e1da5777ab9e91b8249c"
   }
  }
 },
 "nbformat": 4,
 "nbformat_minor": 5
}
