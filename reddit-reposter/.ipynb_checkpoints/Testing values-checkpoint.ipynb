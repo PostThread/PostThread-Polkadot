{
 "cells": [
  {
   "cell_type": "code",
   "execution_count": 10,
   "id": "f429211c",
   "metadata": {},
   "outputs": [
    {
     "name": "stdout",
     "output_type": "stream",
     "text": [
      "\u001b[31mERROR\u001b[0m: The Compose file './docker-compose.yml' is invalid because:\n",
      "Unsupported config option for services.networks: 'backend'\n"
     ]
    }
   ],
   "source": [
    "!docker stop ipfs_host"
   ]
  },
  {
   "cell_type": "code",
   "execution_count": 11,
   "id": "0221dfe1",
   "metadata": {},
   "outputs": [
    {
     "name": "stdout",
     "output_type": "stream",
     "text": [
      "\u001b[31mERROR\u001b[0m: The Compose file './docker-compose.yml' is invalid because:\n",
      "Unsupported config option for services.networks: 'backend'\n"
     ]
    }
   ],
   "source": [
    "!docker rm ipf_host"
   ]
  },
  {
   "cell_type": "code",
   "execution_count": 1,
   "id": "c6b8e975",
   "metadata": {},
   "outputs": [
    {
     "name": "stdout",
     "output_type": "stream",
     "text": [
      "2c7f43c59f574aca03a3b47d20ba69f76063d5b29eb8e2d87ba16786d3d42fb4\r\n"
     ]
    }
   ],
   "source": [
    "!docker run -d --name ipfs_host2 -v $ipfs_staging:/export -v $ipfs_data:/data/ipfs -p 4001:4001 -p 4001:4001/udp -p 127.0.0.1:8080:8080 -p 127.0.0.1:5001:5001 ipfs/go-ipfs:latest"
   ]
  },
  {
   "cell_type": "code",
   "execution_count": 2,
   "id": "44fb498b",
   "metadata": {},
   "outputs": [],
   "source": [
    "!mkdir /tmp/posts\n",
    "!mkdir /tmp/comments"
   ]
  },
  {
   "cell_type": "code",
   "execution_count": 3,
   "id": "6f6314c3",
   "metadata": {},
   "outputs": [],
   "source": [
    "%load_ext autoreload\n",
    "%autoreload 2"
   ]
  },
  {
   "cell_type": "code",
   "execution_count": 4,
   "id": "9f865ce4",
   "metadata": {},
   "outputs": [
    {
     "name": "stderr",
     "output_type": "stream",
     "text": [
      "/home/chia/miniconda3/lib/python3.8/site-packages/ipfshttpclient/client/__init__.py:73: VersionMismatch: Unsupported daemon version '0.13.0' (not in range: 0.5.0 ≤ … < 0.9.0)\n",
      "  warnings.warn(exceptions.VersionMismatch(version, minimum, maximum))\n"
     ]
    }
   ],
   "source": [
    "import json\n",
    "import sqlite3\n",
    "import pandas as pd\n",
    "import substrateinterface\n",
    "from substrateinterface import SubstrateInterface, Keypair\n",
    "from substrateinterface.exceptions import SubstrateRequestException\n",
    "from substrate_helpers import make_call, addSchema, get_msa_id, \\\n",
    "            get_signature, create_msa_with_delegator, mint_votes, mint_user, get_schemas_from_pattern, \\\n",
    "            get_content_from_schemas, get_user, follow_user, add_delegate, mint_data"
   ]
  },
  {
   "cell_type": "code",
   "execution_count": 5,
   "id": "5cc0951b",
   "metadata": {
    "scrolled": true
   },
   "outputs": [],
   "source": [
    "path = '/tmp/'\n",
    "bob = Keypair.create_from_uri('//Bob')\n",
    "substrate = SubstrateInterface(\n",
    "    url=\"ws://127.0.0.1:9944\",\n",
    "    ss58_format=42,\n",
    "    type_registry_preset='kusama'\n",
    ")"
   ]
  },
  {
   "cell_type": "code",
   "execution_count": 6,
   "id": "fda56af6",
   "metadata": {},
   "outputs": [],
   "source": [
    "bob_msa_id = get_msa_id(bob, create=True)"
   ]
  },
  {
   "cell_type": "code",
   "execution_count": 7,
   "id": "ee9d6b7f",
   "metadata": {},
   "outputs": [
    {
     "data": {
      "text/plain": [
       "1"
      ]
     },
     "execution_count": 7,
     "metadata": {},
     "output_type": "execute_result"
    }
   ],
   "source": [
    "bob_msa_id"
   ]
  },
  {
   "cell_type": "code",
   "execution_count": 8,
   "id": "d95dc9af",
   "metadata": {},
   "outputs": [],
   "source": [
    "con = sqlite3.connect('postthreadV1_write.db')\n",
    "cur = con.cursor()"
   ]
  },
  {
   "cell_type": "markdown",
   "id": "410236c4",
   "metadata": {},
   "source": [
    "# Make schemas"
   ]
  },
  {
   "cell_type": "code",
   "execution_count": 9,
   "id": "0dd80bf7",
   "metadata": {},
   "outputs": [],
   "source": [
    "post_schema = \"category STRING,title STRING,body STRING,url STRING,is_nsfw NUMERIC\"\n",
    "post_schemaId = addSchema(post_schema, wait_for_inclusion=True, wait_for_finalization=False)\n",
    "\n",
    "comment_schema = \"post_hash STRING,parent_hash STRING,depth NUMERIC,body STRING\"\n",
    "comment_schemaId = addSchema(comment_schema, wait_for_inclusion=True, wait_for_finalization=False)\n",
    "\n",
    "vote_schema = \"post_hash STRING,parent_hash STRING,parent_type STRING,num_votes NUMERIC\"\n",
    "vote_schemaId = addSchema(vote_schema, wait_for_inclusion=True, wait_for_finalization=False)\n",
    "\n",
    "user_schema = \"msa_id NUMERIC,username STRING,password STRING,profile_pic STRING,wallet_ss58_address STRING\"\n",
    "user_schemaId = addSchema(user_schema, wait_for_inclusion=True, wait_for_finalization=False)\n",
    "\n",
    "follow_schema = \"protagonist_msa_id NUMERIC,antagonist_msa_id NUMERIC,event STRING\"\n",
    "follow_schemaId = addSchema(follow_schema, wait_for_inclusion=True, wait_for_finalization=False)\n",
    "\n",
    "link_schema = \"account_type STRING,account_value STRING\"\n",
    "link_schemaId = addSchema(link_schema, wait_for_inclusion=True, wait_for_finalization=False)\n",
    "\n",
    "payout_schema = \"payout_amount NUMERIC\"\n",
    "payout_schemaId = addSchema(payout_schema, wait_for_inclusion=True, wait_for_finalization=False)"
   ]
  },
  {
   "cell_type": "code",
   "execution_count": 10,
   "id": "b81081be",
   "metadata": {},
   "outputs": [],
   "source": [
    "schemas = {\n",
    "    \"post\": post_schemaId, \"comment\": comment_schemaId, \n",
    "    \"vote\": vote_schemaId, \"user\": user_schemaId, \"follow\": follow_schemaId, \n",
    "    \"link\": link_schemaId, \"payout\": payout_schemaId,\n",
    "}\n",
    "json.dump(schemas, open(\"schemas.json\", \"w\"))"
   ]
  },
  {
   "cell_type": "code",
   "execution_count": 11,
   "id": "5672a0ef",
   "metadata": {},
   "outputs": [
    {
     "data": {
      "text/plain": [
       "{'post': 1,\n",
       " 'comment': 2,\n",
       " 'vote': 3,\n",
       " 'user': 4,\n",
       " 'follow': 5,\n",
       " 'link': 6,\n",
       " 'payout': 7}"
      ]
     },
     "execution_count": 11,
     "metadata": {},
     "output_type": "execute_result"
    }
   ],
   "source": [
    "schemas"
   ]
  },
  {
   "cell_type": "markdown",
   "id": "7d979bcb",
   "metadata": {},
   "source": [
    "# Mint accounts "
   ]
  },
  {
   "cell_type": "code",
   "execution_count": 12,
   "id": "73af93ae",
   "metadata": {
    "scrolled": true
   },
   "outputs": [],
   "source": [
    "accounts = {}\n",
    "for account in ['Alice', 'Charlie', 'Dave', 'Eve', 'Ferdie']:\n",
    "    wallet = Keypair.create_from_uri(f'//{account}password')\n",
    "    user_msa_id = create_msa_with_delegator(bob, wallet)\n",
    "    receipt_user = mint_user(user_msa_id, account, \"password\", \"profile_pic\", wallet)\n",
    "    accounts[account] = user_msa_id"
   ]
  },
  {
   "cell_type": "code",
   "execution_count": 13,
   "id": "935fe0cd",
   "metadata": {},
   "outputs": [],
   "source": [
    "json.dump(accounts, open(\"accounts.json\", \"w\"))"
   ]
  },
  {
   "cell_type": "code",
   "execution_count": 14,
   "id": "d1e47bf8",
   "metadata": {},
   "outputs": [
    {
     "data": {
      "text/plain": [
       "{'Alice': 2, 'Charlie': 3, 'Dave': 4, 'Eve': 5, 'Ferdie': 6}"
      ]
     },
     "execution_count": 14,
     "metadata": {},
     "output_type": "execute_result"
    }
   ],
   "source": [
    "accounts"
   ]
  },
  {
   "cell_type": "markdown",
   "id": "17943ed7",
   "metadata": {},
   "source": [
    "# Have accounts follow each other"
   ]
  },
  {
   "cell_type": "code",
   "execution_count": 15,
   "id": "0e81330b",
   "metadata": {
    "scrolled": true
   },
   "outputs": [
    {
     "name": "stdout",
     "output_type": "stream",
     "text": [
      "Alice Charlie\n",
      "Alice Dave\n",
      "Alice Eve\n",
      "Alice Ferdie\n",
      "Charlie Alice\n",
      "Charlie Dave\n",
      "Charlie Eve\n",
      "Charlie Ferdie\n",
      "Dave Alice\n",
      "Dave Charlie\n",
      "Dave Eve\n",
      "Dave Ferdie\n",
      "Eve Alice\n",
      "Eve Charlie\n",
      "Eve Dave\n",
      "Eve Ferdie\n",
      "Ferdie Alice\n",
      "Ferdie Charlie\n",
      "Ferdie Dave\n",
      "Ferdie Eve\n"
     ]
    }
   ],
   "source": [
    "for name1, k1 in accounts.items():\n",
    "    for name2, k2 in accounts.items():\n",
    "        if k1 != k2:\n",
    "            print(name1, name2)\n",
    "            receipt = follow_user(k1, k2, True, wait_for_inclusion=False, wait_for_finalization=False)"
   ]
  },
  {
   "cell_type": "code",
   "execution_count": 16,
   "id": "754e8fd0",
   "metadata": {
    "scrolled": true
   },
   "outputs": [],
   "source": [
    "receipt = follow_user(accounts['Dave'], accounts['Eve'], False, wait_for_inclusion=False, wait_for_finalization=False)\n",
    "receipt = follow_user(accounts['Eve'], accounts['Dave'], False, wait_for_inclusion=False, wait_for_finalization=False)\n",
    "receipt = follow_user(accounts['Dave'], accounts['Eve'], True, wait_for_inclusion=False, wait_for_finalization=False)"
   ]
  },
  {
   "cell_type": "markdown",
   "id": "fa6e1713",
   "metadata": {},
   "source": [
    "# Test post"
   ]
  },
  {
   "cell_type": "code",
   "execution_count": 17,
   "id": "d0b4f3b6",
   "metadata": {},
   "outputs": [],
   "source": [
    "post_data = {\n",
    "    \"category\": \"test\",\n",
    "    \"title\": \"test title\",\n",
    "    \"body\": \"test post\",\n",
    "    \"url\": \"\",\n",
    "    \"is_nsfw\": False\n",
    "}\n",
    "\n",
    "username = 'Charlie'\n",
    "password = 'password'\n",
    "\n",
    "user_wallet = Keypair.create_from_uri('//' + username + password)\n",
    "user_msa_id = get_msa_id(user_wallet)\n",
    "\n",
    "post_data_hash, receipt_post = mint_data(post_data, user_msa_id, schemas['post'], path+'posts/', \n",
    "                                         wait_for_inclusion=True, wait_for_finalization=False)"
   ]
  },
  {
   "cell_type": "code",
   "execution_count": 18,
   "id": "17e28c1b",
   "metadata": {},
   "outputs": [],
   "source": [
    "receipt_post.error_message"
   ]
  },
  {
   "cell_type": "code",
   "execution_count": 19,
   "id": "d408217f",
   "metadata": {},
   "outputs": [
    {
     "data": {
      "text/plain": [
       "'QmbG2dxLWHKvdgsTqDzLjhD96BXrLQUeJkrLuasmPZKgn9'"
      ]
     },
     "execution_count": 19,
     "metadata": {},
     "output_type": "execute_result"
    }
   ],
   "source": [
    "example_post = pd.read_sql_query(f\"SELECT ipfs_hash FROM post WHERE msa_id_from_query = {accounts['Charlie']} LIMIT 1\", con)['ipfs_hash'].iloc[0]\n",
    "example_post"
   ]
  },
  {
   "cell_type": "code",
   "execution_count": 20,
   "id": "ad265ade",
   "metadata": {
    "scrolled": true
   },
   "outputs": [],
   "source": [
    "comment_data = {\n",
    "    \"post_hash\": example_post,\n",
    "    \"parent_hash\": example_post,\n",
    "    \"depth\": 0,\n",
    "    \"body\": \"example comment 2\",\n",
    "}\n",
    "username = 'Charlie'\n",
    "password = 'password'\n",
    "\n",
    "user_wallet = Keypair.create_from_uri('//' + username + password)\n",
    "user_msa_id = get_msa_id(user_wallet)\n",
    "\n",
    "comment_data_hash, receipt_comment = mint_data(comment_data, user_msa_id, schemas['comment'], path+'comments/', \n",
    "                                               wait_for_inclusion=True, wait_for_finalization=False)\n"
   ]
  },
  {
   "cell_type": "code",
   "execution_count": 21,
   "id": "f040398c",
   "metadata": {},
   "outputs": [],
   "source": [
    "account_type = \"gmail\"\n",
    "account_value = \"example@gmail.com\"\n",
    "link_data = '{' + f'\"account_type\": \"{account_type}\",\"account_value\": \"{account_value}\"' + '}'\n",
    "\n",
    "username = 'Charlie'\n",
    "password = 'password'\n",
    "\n",
    "user_wallet = Keypair.create_from_uri('//' + username + password)\n",
    "user_msa_id = get_msa_id(user_wallet)\n",
    "\n",
    "link_data_hash, receipt_link = mint_data(link_data, user_msa_id, schemas['link'], \n",
    "                                               wait_for_inclusion=True, wait_for_finalization=False)"
   ]
  },
  {
   "cell_type": "code",
   "execution_count": 22,
   "id": "dbcf25d3",
   "metadata": {},
   "outputs": [],
   "source": [
    "receipt_link.error_message"
   ]
  },
  {
   "cell_type": "code",
   "execution_count": 23,
   "id": "bf1552f7",
   "metadata": {},
   "outputs": [],
   "source": [
    "    data = '{' + f'\"post_hash\": \"{example_post}\",\"parent_hash\": \"{example_post}\",\"parent_type\": \"post\",\"num_votes\": 1' + '}'\n",
    "    _, receipt = mint_data(data, user_msa_id, schemas['vote'], \n",
    "                        wait_for_inclusion=True, wait_for_finalization=False)\n",
    "    "
   ]
  },
  {
   "cell_type": "code",
   "execution_count": 24,
   "id": "42402e59",
   "metadata": {},
   "outputs": [
    {
     "data": {
      "text/plain": [
       "('{\"payout_amount\": 1000}',\n",
       " <substrateinterface.base.ExtrinsicReceipt at 0x7f208865fd90>)"
      ]
     },
     "execution_count": 24,
     "metadata": {},
     "output_type": "execute_result"
    }
   ],
   "source": [
    "\n",
    "    payout_amount = 1000\n",
    "    receipt = make_call(\"Balances\", \"transfer\", {\"dest\": \"5FqWBycSL7R7bG3VNRRHftv98kCjGCQ3oPT34tMUTwfsvcUj\", \"value\": payout_amount}, bob, \n",
    "                        wait_for_inclusion=True, wait_for_finalization=False)\n",
    "    data = '{' + f'\"payout_amount\": {payout_amount}' + '}'\n",
    "    mint_data(data, user_msa_id, schemas['payout'], wait_for_inclusion=True, wait_for_finalization=False)"
   ]
  },
  {
   "cell_type": "code",
   "execution_count": null,
   "id": "fc639a8a",
   "metadata": {},
   "outputs": [],
   "source": []
  }
 ],
 "metadata": {
  "kernelspec": {
   "display_name": "Python 3 (ipykernel)",
   "language": "python",
   "name": "python3"
  },
  "language_info": {
   "codemirror_mode": {
    "name": "ipython",
    "version": 3
   },
   "file_extension": ".py",
   "mimetype": "text/x-python",
   "name": "python",
   "nbconvert_exporter": "python",
   "pygments_lexer": "ipython3",
   "version": "3.8.5"
  },
  "vscode": {
   "interpreter": {
    "hash": "f90a51316803318f0b952c570a4fe32d53aa73ff3300e1da5777ab9e91b8249c"
   }
  }
 },
 "nbformat": 4,
 "nbformat_minor": 5
}
